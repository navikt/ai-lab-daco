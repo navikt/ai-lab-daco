{
 "cells": [
  {
   "cell_type": "markdown",
   "metadata": {},
   "source": [
    "# Innføring i DACO\n",
    "\n",
    "`DACO` er en Python-pakke som tar inn to Pandas datarammer og sammenlikner disse ved hjelp av plott og tallmetrikker. Vi vil her gå gjennom et tilfelle hvor vi har et datasett som er splitta i to deler, og vi vil sjekke om disse delen er like, et konkret tilfelle kan være å sammenlikne data fra to forskjellige år."
   ]
  },
  {
   "cell_type": "code",
   "execution_count": null,
   "metadata": {},
   "outputs": [],
   "source": [
    "from daco.daco import daco\n",
    "import pandas as pd\n",
    "import numpy as np\n",
    "import matplotlib.pyplot as plt"
   ]
  },
  {
   "cell_type": "markdown",
   "metadata": {},
   "source": [
    "Innlasting av data, konvertering av datatyper for kolonnene, og navngiving av features og targets (hvis nødvendig)"
   ]
  },
  {
   "cell_type": "code",
   "execution_count": null,
   "metadata": {},
   "outputs": [],
   "source": [
    "header = ['age','workclass','fnlwgt','education','education-num','marital-status','occupation','relationship','race','sex','capital-gain','capital-loss','hours-per-week','native-country', 'pred_var']\n",
    "df = pd.read_csv('datasets/adult.data.txt', sep=\",\",names=header, header=None)\n",
    "\n",
    "cat_var = ['workclass','education','marital-status','occupation','relationship','race','sex','native-country', 'pred_var']\n",
    "\n",
    "for var in (set(header) - set(cat_var)):\n",
    "  df[var] = df[var].astype('float')\n",
    "for var in cat_var:\n",
    "  df[var] = df[var].astype('category')\n",
    "\n",
    "features = ['age','workclass','fnlwgt','education','education-num','marital-status','occupation','relationship','race','sex','capital-gain','capital-loss','hours-per-week','native-country']\n",
    "target = ['pred_var']"
   ]
  },
  {
   "cell_type": "markdown",
   "metadata": {},
   "source": [
    "Vi jukser litt og splitter datasettet i to, hvor den ene skal forestille en syntetisk versjon av den originale"
   ]
  },
  {
   "cell_type": "code",
   "execution_count": null,
   "metadata": {},
   "outputs": [],
   "source": [
    "df1 = df[:15000]\n",
    "df2 = df[15000:]"
   ]
  },
  {
   "cell_type": "markdown",
   "metadata": {},
   "source": [
    "Initialisering av DACO-objektet"
   ]
  },
  {
   "cell_type": "code",
   "execution_count": null,
   "metadata": {},
   "outputs": [],
   "source": [
    "daco_obj = daco(df1,df2)"
   ]
  },
  {
   "cell_type": "markdown",
   "metadata": {},
   "source": [
    "Finner distribusjonene til alle numeriske og kategoriske variable i datasettet"
   ]
  },
  {
   "cell_type": "code",
   "execution_count": null,
   "metadata": {},
   "outputs": [],
   "source": [
    "dist = daco_obj.findDistributions()"
   ]
  },
  {
   "cell_type": "markdown",
   "metadata": {},
   "source": [
    "Printer ut metrikker for alle numeriske variable på markdown-format."
   ]
  },
  {
   "cell_type": "code",
   "execution_count": null,
   "metadata": {},
   "outputs": [],
   "source": [
    "daco_obj.printDistances()"
   ]
  },
  {
   "cell_type": "markdown",
   "metadata": {},
   "source": [
    "Plotter et canvas av distribusjoner for numeriske og kategoriske variable i datasettet"
   ]
  },
  {
   "cell_type": "code",
   "execution_count": null,
   "metadata": {},
   "outputs": [],
   "source": [
    "daco_obj.plotCanvas()\n",
    "plt.savefig('canvas.pdf')"
   ]
  },
  {
   "cell_type": "markdown",
   "metadata": {},
   "source": [
    "Plotter korrelasjonsmatrisa for de numeriske variablene i de to datasettene"
   ]
  },
  {
   "cell_type": "code",
   "execution_count": null,
   "metadata": {},
   "outputs": [],
   "source": [
    "daco_obj.plotCorrelationDiff()"
   ]
  },
  {
   "cell_type": "markdown",
   "metadata": {},
   "source": [
    "## Distansemetrikker\n",
    "I `DACO` er flere distansemetrikker implementert:\n",
    "* Bhattacharyya\n",
    "* Chi-kvadrat\n",
    "* Hellinger\n",
    "* KS2-test\n",
    "* Kullback-Leibler\n",
    "* Wasserstein\n",
    "* Synthetic Ranking Agreement (SRA)\n",
    "* Tren syntetisk, test på ekte (TSTR)\n",
    "\n",
    "Disse er beskrevet i nærmere detalj i dokumentasjonen: https://navikt.github.io/ai-lab-daco/. Her så vil vi vise hvordan de kan brukes."
   ]
  },
  {
   "cell_type": "code",
   "execution_count": null,
   "metadata": {},
   "outputs": [],
   "source": [
    "daco_obj.bhattacharyya('age')\n",
    "daco_obj.chisquare('age')\n",
    "daco_obj.hellinger('age')\n",
    "daco_obj.ks2_test('age')\n",
    "daco_obj.kullbackleibler('age')\n",
    "daco_obj.syntheticRankingAgreement()\n",
    "daco_obj.trainSynthTestReal()\n",
    "daco_obj.wasserstein('age')"
   ]
  },
  {
   "cell_type": "code",
   "execution_count": null,
   "metadata": {},
   "outputs": [],
   "source": []
  }
 ],
 "metadata": {
  "kernelspec": {
   "display_name": "Python 3",
   "language": "python",
   "name": "python3"
  },
  "language_info": {
   "codemirror_mode": {
    "name": "ipython",
    "version": 3
   },
   "file_extension": ".py",
   "mimetype": "text/x-python",
   "name": "python",
   "nbconvert_exporter": "python",
   "pygments_lexer": "ipython3"
  }
 },
 "nbformat": 4,
 "nbformat_minor": 2
}
