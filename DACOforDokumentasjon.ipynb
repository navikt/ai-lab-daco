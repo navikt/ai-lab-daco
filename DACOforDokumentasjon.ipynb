{
 "cells": [
  {
   "cell_type": "markdown",
   "metadata": {},
   "source": [
    "# Innføring i DACO\n",
    "\n",
    "Målet med denne er å gi en kjapp innføring i hvordan man kan bruke `DACO` for å dokumentere utfallet av en syntetiseringsprosess. Arbeidsflyten er lagt opp slik at man gir inn to Pandas dataframes hvor den ene er originale data, mens den andre er den syntetiske versjonen, deretter kjører man funksjoner som regner ut metrikker og plotter resultatene."
   ]
  },
  {
   "cell_type": "code",
   "execution_count": null,
   "metadata": {},
   "outputs": [],
   "source": [
    "from daco.daco import daco\n",
    "import pandas as pd\n",
    "import numpy as np\n",
    "\n",
    "# Innlasting av data, konvertering av datatyper for kolonnene, og navngiving av features og targets (hvis nødvendig)\n",
    "header = ['age','workclass','fnlwgt','education','education-num','marital-status','occupation','relationship','race','sex','capital-gain','capital-loss','hours-per-week','native-country', 'pred_var']\n",
    "df = pd.read_csv('datasets/adult.data.txt', sep=\",\",names=header, header=None)\n",
    "\n",
    "cat_var = ['workclass','education','marital-status','occupation','relationship','race','sex','native-country', 'pred_var']\n",
    "\n",
    "for var in (set(header) - set(cat_var)):\n",
    "  df[var] = df[var].astype('float')\n",
    "for var in cat_var:\n",
    "  df[var] = df[var].astype('category')\n",
    "\n",
    "features = ['age','workclass','fnlwgt','education','education-num','marital-status','occupation','relationship','race','sex','capital-gain','capital-loss','hours-per-week','native-country']\n",
    "target = ['pred_var']\n",
    "\n",
    "# Vi jukser litt og splitter datasettet i to, hvor den ene skal forestille en syntetisk versjon\n",
    "# av den originale\n",
    "df1 = df[:15000]\n",
    "df2 = df[15000:]"
   ]
  },
  {
   "cell_type": "code",
   "execution_count": null,
   "metadata": {},
   "outputs": [],
   "source": [
    "# Initialisering av DACO-objektet\n",
    "daco_obj = daco(df1,df2)"
   ]
  },
  {
   "cell_type": "code",
   "execution_count": null,
   "metadata": {},
   "outputs": [],
   "source": [
    "# Finner distribusjonene til alle numeriske og kategoriske variable i datasettet\n",
    "dist = daco_obj.findDistributions()"
   ]
  },
  {
   "cell_type": "code",
   "execution_count": null,
   "metadata": {},
   "outputs": [],
   "source": [
    "# Printer ut metrikker for alle numeriske variable i datasettet på markdown-format.\n",
    "daco_obj.printDistances()"
   ]
  },
  {
   "cell_type": "code",
   "execution_count": null,
   "metadata": {},
   "outputs": [],
   "source": [
    "import matplotlib.pyplot as plt\n",
    "# Plotter et canvas av distribusjoner for numeriske og kategoriske variable i datasettet\n",
    "daco_obj.plotCanvas()\n",
    "plt.savefig('canvas.pdf')"
   ]
  },
  {
   "cell_type": "code",
   "execution_count": null,
   "metadata": {},
   "outputs": [],
   "source": [
    "# Plotter korrelasjonsmatrisa for de numeriske variablene i de to datasettene\n",
    "daco_obj.plotCorrelationDiff()"
   ]
  },
  {
   "cell_type": "code",
   "execution_count": null,
   "metadata": {},
   "outputs": [],
   "source": [
    "# Plotte distansemetrikker som boksplot\n",
    "daco_obj.plotDistanceMetrics()"
   ]
  },
  {
   "cell_type": "code",
   "execution_count": null,
   "metadata": {},
   "outputs": [],
   "source": [
    "import sys\n",
    "for path in sys.path:\n",
    "    print(path)"
   ]
  },
  {
   "cell_type": "code",
   "execution_count": null,
   "metadata": {},
   "outputs": [],
   "source": [
    "sys.path[-1] = '/Users/jonvegard/Desktop/TEMP_venv_DACO/TEMP_daco/lib/python3.7/site-packages/'"
   ]
  },
  {
   "cell_type": "code",
   "execution_count": null,
   "metadata": {},
   "outputs": [],
   "source": []
  }
 ],
 "metadata": {
  "language_info": {
   "name": "python",
   "pygments_lexer": "ipython3"
  }
 },
 "nbformat": 4,
 "nbformat_minor": 2
}
